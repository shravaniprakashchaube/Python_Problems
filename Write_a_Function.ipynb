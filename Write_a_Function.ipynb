{
  "nbformat": 4,
  "nbformat_minor": 0,
  "metadata": {
    "colab": {
      "provenance": [],
      "authorship_tag": "ABX9TyNck2kEoypkAyABWPCRvcI/",
      "include_colab_link": true
    },
    "kernelspec": {
      "name": "python3",
      "display_name": "Python 3"
    },
    "language_info": {
      "name": "python"
    }
  },
  "cells": [
    {
      "cell_type": "markdown",
      "metadata": {
        "id": "view-in-github",
        "colab_type": "text"
      },
      "source": [
        "<a href=\"https://colab.research.google.com/github/shravaniprakashchaube/Python_Problems/blob/main/Write_a_Function.ipynb\" target=\"_parent\"><img src=\"https://colab.research.google.com/assets/colab-badge.svg\" alt=\"Open In Colab\"/></a>"
      ]
    },
    {
      "cell_type": "code",
      "execution_count": 3,
      "metadata": {
        "colab": {
          "base_uri": "https://localhost:8080/"
        },
        "id": "aPUFAnBJo_RI",
        "outputId": "5b543f49-d61e-4b13-ac88-6b4a3dc7d64e"
      },
      "outputs": [
        {
          "output_type": "stream",
          "name": "stdout",
          "text": [
            "2020\n",
            "True\n"
          ]
        }
      ],
      "source": [
        "def is_leap(year):\n",
        "  leap = False\n",
        "  if year % 4 == 0:\n",
        "   leap = True\n",
        "  elif year % 400 == 0:\n",
        "   leap = True\n",
        "  else :\n",
        "    leap = False\n",
        "  return leap\n",
        "year = int(input())\n",
        "print(is_leap(year))"
      ]
    }
  ]
}