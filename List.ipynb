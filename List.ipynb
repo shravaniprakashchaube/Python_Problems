{
  "nbformat": 4,
  "nbformat_minor": 0,
  "metadata": {
    "colab": {
      "provenance": [],
      "authorship_tag": "ABX9TyO44ZI0ZzI1S4K28OPguT3J",
      "include_colab_link": true
    },
    "kernelspec": {
      "name": "python3",
      "display_name": "Python 3"
    },
    "language_info": {
      "name": "python"
    }
  },
  "cells": [
    {
      "cell_type": "markdown",
      "metadata": {
        "id": "view-in-github",
        "colab_type": "text"
      },
      "source": [
        "<a href=\"https://colab.research.google.com/github/shravaniprakashchaube/Python_Problems/blob/main/List.ipynb\" target=\"_parent\"><img src=\"https://colab.research.google.com/assets/colab-badge.svg\" alt=\"Open In Colab\"/></a>"
      ]
    },
    {
      "cell_type": "code",
      "source": [
        "# Write a Python program to sum all the items\n",
        "# solution 1\n",
        "\n",
        "L = [1,7,-10,34,2,-8]\n",
        "sum(L)"
      ],
      "metadata": {
        "colab": {
          "base_uri": "https://localhost:8080/"
        },
        "id": "h60PlOSEPxr-",
        "outputId": "6162b001-87e1-4e15-c796-6eb9db32d135"
      },
      "execution_count": null,
      "outputs": [
        {
          "output_type": "execute_result",
          "data": {
            "text/plain": [
              "26"
            ]
          },
          "metadata": {},
          "execution_count": 2
        }
      ]
    },
    {
      "cell_type": "code",
      "source": [
        "# solution 2\n",
        "L = [1,7,-10,34,2,-8]\n",
        "sum = 0\n",
        "for i in L:\n",
        "        sum+= i\n",
        "\n",
        "print(sum)\n",
        "\n",
        "\n",
        "\n"
      ],
      "metadata": {
        "colab": {
          "base_uri": "https://localhost:8080/"
        },
        "id": "8HxqqsB7QPvN",
        "outputId": "018cdd2f-f38e-449f-e7ee-e1960ad12e36"
      },
      "execution_count": null,
      "outputs": [
        {
          "output_type": "stream",
          "name": "stdout",
          "text": [
            "26\n"
          ]
        }
      ]
    },
    {
      "cell_type": "code",
      "source": [
        "# Write a Python program to multiply all the items in a list\n",
        "L = [3,4,5,4,7]\n",
        "mul = 1\n",
        "for i in L:\n",
        "     mul*= i\n",
        "print(mul)"
      ],
      "metadata": {
        "colab": {
          "base_uri": "https://localhost:8080/"
        },
        "id": "WjwY3TWpRqzD",
        "outputId": "da56bdd4-4e3f-46fc-b947-a9f66077cc6e"
      },
      "execution_count": null,
      "outputs": [
        {
          "output_type": "stream",
          "name": "stdout",
          "text": [
            "1680\n"
          ]
        }
      ]
    },
    {
      "cell_type": "code",
      "source": [
        "# Write a Python program to get the largest number from a list\n",
        "L=[1,7,10,34,2,8]\n",
        "\n",
        "max = L[ 0 ]\n",
        "for i in L:\n",
        "\tif i > max:\n",
        "\t\tmax = i\n",
        "print(\"Largest Number :\",max)\n",
        "\n",
        "\n"
      ],
      "metadata": {
        "colab": {
          "base_uri": "https://localhost:8080/"
        },
        "id": "BDmIcsPFTBqk",
        "outputId": "01a2b17f-ad4e-48e1-8cdb-f3fc14a60999"
      },
      "execution_count": null,
      "outputs": [
        {
          "output_type": "stream",
          "name": "stdout",
          "text": [
            "Largest Number : 34\n"
          ]
        }
      ]
    },
    {
      "cell_type": "code",
      "source": [
        "# Write a Python program to get the smallest number from a list\n",
        "L = [51,7,10,34,2,8]\n",
        "min = L[0]\n",
        "for i in L:\n",
        "  if i < min:\n",
        "    min = i\n",
        "print(min)"
      ],
      "metadata": {
        "colab": {
          "base_uri": "https://localhost:8080/"
        },
        "id": "6pPZOIcschJL",
        "outputId": "fd5c166a-e12f-4377-e621-50d902c2c2d8"
      },
      "execution_count": null,
      "outputs": [
        {
          "output_type": "stream",
          "name": "stdout",
          "text": [
            "2\n"
          ]
        }
      ]
    },
    {
      "cell_type": "code",
      "source": [
        "#Write a Python program to count the number of strings where the string length is 2 or more and the first and last character are same from a given list of strings\n",
        "word = ['abc', 'xyz', 'aba', '1221']\n",
        "count = 0\n",
        "for w in word:\n",
        "  if len(w) > 1 and w[0] == w[-1]:\n",
        "    count+= 1\n",
        "print(count)"
      ],
      "metadata": {
        "colab": {
          "base_uri": "https://localhost:8080/"
        },
        "id": "0gKwTkIneHje",
        "outputId": "025dcb61-4a96-420a-cb10-9045052b7b60"
      },
      "execution_count": null,
      "outputs": [
        {
          "output_type": "stream",
          "name": "stdout",
          "text": [
            "2\n"
          ]
        }
      ]
    },
    {
      "cell_type": "code",
      "source": [
        "#Write a Python program to remove duplicates from a list\n",
        "#solution 1\n",
        "L = [1,2,3,7,2,1,5,6,4,8,5,4]\n",
        "uniq = set(L)\n",
        "print(uniq)\n",
        "\n",
        "#solution 2\n",
        "a = [1,2,3,7,2,1,5,6,4,8,5,4]\n",
        "dup = set()\n",
        "uniq = []\n",
        "for x in a:\n",
        "    if x not in dup:\n",
        "        uniq.append(x)\n",
        "        dup.add(x)\n",
        "print(dup)"
      ],
      "metadata": {
        "colab": {
          "base_uri": "https://localhost:8080/"
        },
        "id": "7vXPC-eEpXZE",
        "outputId": "5e52a643-9417-4628-c119-899e56f1b6ba"
      },
      "execution_count": null,
      "outputs": [
        {
          "output_type": "stream",
          "name": "stdout",
          "text": [
            "{1, 2, 3, 4, 5, 6, 7, 8}\n",
            "{1, 2, 3, 4, 5, 6, 7, 8}\n"
          ]
        }
      ]
    },
    {
      "cell_type": "code",
      "source": [
        "\n",
        "#Write a Python program to find the list of words that are longer than n from\n",
        "str=\"Find the List of Words that are Longer than n from a given List of Words\"\n",
        "n = 4\n",
        "newlist= []\n",
        "text = str.split()\n",
        "for x in text:\n",
        "   if len(x) > n:\n",
        "     newlist.append(x)\n",
        "print(newlist)\n"
      ],
      "metadata": {
        "colab": {
          "base_uri": "https://localhost:8080/"
        },
        "id": "6KvZyUv4u44n",
        "outputId": "4cb6a5f6-f0f1-4062-8812-2e7edbd39e1d"
      },
      "execution_count": null,
      "outputs": [
        {
          "output_type": "stream",
          "name": "stdout",
          "text": [
            "['Words', 'Longer', 'given', 'Words']\n"
          ]
        }
      ]
    },
    {
      "cell_type": "code",
      "source": [
        "#Write a Program that get two lists as input and check if they have at least one common member\n",
        "list1=[1,2,3,4,5]\n",
        "list2=[5,6,7,8,9]\n",
        "result = False\n",
        "for x in list1:\n",
        " for y in list2:\n",
        "\t if x == y:\n",
        "\t\t       result = True\n",
        "\n",
        "if result:\n",
        "    print(\"Lists have at least one common member\")\n",
        "else:\n",
        "    print(\"Lists do not have any common member\")\n"
      ],
      "metadata": {
        "colab": {
          "base_uri": "https://localhost:8080/"
        },
        "id": "Z5Yopvbrwxnq",
        "outputId": "8337450d-f1b6-4f10-fb66-f49eb5b9f12d"
      },
      "execution_count": null,
      "outputs": [
        {
          "output_type": "stream",
          "name": "stdout",
          "text": [
            "Lists have at least one common member\n"
          ]
        }
      ]
    },
    {
      "cell_type": "code",
      "source": [
        "#Write a Python program to print a specified list after removing the 0th, 4th and 5th elements\n",
        "animal = [\"Cat\", \"Dog\", \"Elephant\", \"Fox\", \"Tiger\", \"Lion\", \"Ponda\"]\n",
        "animal = [x for (i,x) in enumerate(animal) if i not in (0,4,5)]\n",
        "print(animal)"
      ],
      "metadata": {
        "colab": {
          "base_uri": "https://localhost:8080/"
        },
        "id": "Pek9LloS0hzX",
        "outputId": "9cb2d7ff-f586-4e28-93fe-f0ffa803cdec"
      },
      "execution_count": null,
      "outputs": [
        {
          "output_type": "stream",
          "name": "stdout",
          "text": [
            "['Dog', 'Elephant', 'Fox', 'Ponda']\n"
          ]
        }
      ]
    },
    {
      "cell_type": "code",
      "source": [
        "\n",
        "#. Write a Python program to print the numbers of a specified list after removing even numbers from it\n",
        "L = [7,32,81,20,25,14,23,27]\n",
        "new_list = []\n",
        "L = [x for x in L if x%2!=0]\n",
        "print(L)\n"
      ],
      "metadata": {
        "colab": {
          "base_uri": "https://localhost:8080/"
        },
        "id": "AmDI8MND2DiI",
        "outputId": "2fa89353-8b29-4d37-9c31-2fa72c0cbf58"
      },
      "execution_count": null,
      "outputs": [
        {
          "output_type": "stream",
          "name": "stdout",
          "text": [
            "[7, 81, 25, 23, 27]\n"
          ]
        }
      ]
    },
    {
      "cell_type": "code",
      "source": [
        "#Write a Python program to generate and print a list of first and last 5 elements where the values are square of numbers between 1 and 30\n",
        "l = list()\n",
        "for i in range(11,25):\n",
        "\tl.append(i**2)\n",
        "print(l[:5])\n",
        "print(l[-5:])"
      ],
      "metadata": {
        "colab": {
          "base_uri": "https://localhost:8080/"
        },
        "id": "LsO0opQO4lgJ",
        "outputId": "2c6f6eed-64f2-4dcc-a2d3-527eae72b192"
      },
      "execution_count": null,
      "outputs": [
        {
          "output_type": "stream",
          "name": "stdout",
          "text": [
            "[121, 144, 169, 196, 225]\n",
            "[400, 441, 484, 529, 576]\n"
          ]
        }
      ]
    },
    {
      "cell_type": "code",
      "source": [
        "\"\"\"Write a Python program to generate all permutations of a list in Python\n",
        "This program imports the \"itertools\" module and uses the\n",
        "\"permutations\" function from itertools to find all possible permutations of the list [1,2,3].\n",
        "The permutations function takes a single iterable as an argument and returns an iterator of tuples\n",
        "containing all possible permutations. In this case, the list [1,2,3] is passed as an argument to the\n",
        "permutations function, and the output will be an iterator of tuples containing all possible permutations of\n",
        " that list. The result is converted to a list using the list() function and printed on the console.\"\"\"\n",
        "import itertools\n",
        "print(list(itertools.permutations([1,2,3])))\n"
      ],
      "metadata": {
        "colab": {
          "base_uri": "https://localhost:8080/"
        },
        "id": "ve_GG18S41od",
        "outputId": "9c09d60b-cce3-4b1f-c0d8-c208939a6a18"
      },
      "execution_count": null,
      "outputs": [
        {
          "output_type": "stream",
          "name": "stdout",
          "text": [
            "[(1, 2, 3), (1, 3, 2), (2, 1, 3), (2, 3, 1), (3, 1, 2), (3, 2, 1)]\n"
          ]
        }
      ]
    },
    {
      "cell_type": "code",
      "source": [
        "#Write a Python program to convert a list of characters into a string\n",
        "s = ['T','u','t','o','r',' ','J','o','e','s']\n",
        "s1 = ''.join(s)\n",
        "print(s1)"
      ],
      "metadata": {
        "colab": {
          "base_uri": "https://localhost:8080/"
        },
        "id": "EuMS4x7b5kXX",
        "outputId": "ced25a9c-1597-47eb-a3fc-098e401e4f55"
      },
      "execution_count": null,
      "outputs": [
        {
          "output_type": "stream",
          "name": "stdout",
          "text": [
            "Tutor Joes\n"
          ]
        }
      ]
    },
    {
      "cell_type": "code",
      "source": [
        "#Write a Python program to find the index of an item in a specified list\n",
        "num = [20, 70, 30, 90, 10, 30, 90, 10, 80]\n",
        "print(num.index(30))"
      ],
      "metadata": {
        "colab": {
          "base_uri": "https://localhost:8080/"
        },
        "id": "-5dWDJXP54q0",
        "outputId": "a9e3367c-63a4-4075-cd8c-b5b2b9cd3fdb"
      },
      "execution_count": null,
      "outputs": [
        {
          "output_type": "stream",
          "name": "stdout",
          "text": [
            "2\n"
          ]
        }
      ]
    },
    {
      "cell_type": "code",
      "source": [
        "#Write a Python program to flatten a shallow list\n",
        "\n",
        "li = [[10, 20, 30, 40], [50, 60, 70, 80], [90, 100, 110, 120]]\n",
        "print(\"Original shallow list:\", li)\n",
        "\n",
        "flatlist = []\n",
        "for sub_li in li:\n",
        "    for ele in sub_li:\n",
        "        flatlist.append(ele)\n",
        "print(\"After flattening :\", flatlist)"
      ],
      "metadata": {
        "colab": {
          "base_uri": "https://localhost:8080/"
        },
        "id": "Rh3YXnVA8Zm9",
        "outputId": "af4edfb9-373c-470e-cf9f-74111ea822bd"
      },
      "execution_count": null,
      "outputs": [
        {
          "output_type": "stream",
          "name": "stdout",
          "text": [
            "Original shallow list: [[10, 20, 30, 40], [50, 60, 70, 80], [90, 100, 110, 120]]\n",
            "After flattening : [10, 20, 30, 40, 50, 60, 70, 80, 90, 100, 110, 120]\n"
          ]
        }
      ]
    },
    {
      "cell_type": "code",
      "source": [
        "# Write a Python program to find the second smallest number in a list\n",
        "num = [ 2,4,56,78,4,34,5,8,9]\n",
        "if (len(num)<2):\n",
        "  print(num)\n",
        "if ((len(num)==2)  and (num[0] == num[1]) ):\n",
        "  print(num)\n",
        "dup_items = set()\n",
        "uniq_items = []\n",
        "for x in num:\n",
        "  if x not in dup_items:\n",
        "    uniq_items.append(x)\n",
        "    dup_items.add(x)\n",
        "uniq_items.sort()\n",
        "print(  uniq_items[1]   )\n"
      ],
      "metadata": {
        "colab": {
          "base_uri": "https://localhost:8080/"
        },
        "id": "VbrCsY4K9eI4",
        "outputId": "203df3bd-1ad5-4d61-a48b-7eb0688556d2"
      },
      "execution_count": null,
      "outputs": [
        {
          "output_type": "stream",
          "name": "stdout",
          "text": [
            "4\n"
          ]
        }
      ]
    },
    {
      "cell_type": "code",
      "source": [
        "#Write a Python program to get the frequency of the elements in a list\n",
        "\n",
        "\n",
        "# initializing the list\n",
        "random_list = ['A', 'A', 'B', 'C', 'B', 'D', 'D', 'A', 'B']\n",
        "frequency = {}\n",
        "\n",
        "# iterating over the list\n",
        "for item in random_list:\n",
        "   # checking the element in dictionary\n",
        "   if item in frequency:\n",
        "      # incrementing the counr\n",
        "      frequency[item] += 1\n",
        "   else:\n",
        "      # initializing the count\n",
        "      frequency[item] = 1\n",
        "\n",
        "# printing the frequency\n",
        "print(frequency)"
      ],
      "metadata": {
        "colab": {
          "base_uri": "https://localhost:8080/"
        },
        "id": "mWhIK6ml-5_r",
        "outputId": "333d7d25-39bc-4ec3-efbb-d492a0ad5257"
      },
      "execution_count": null,
      "outputs": [
        {
          "output_type": "stream",
          "name": "stdout",
          "text": [
            "{'A': 3, 'B': 3, 'C': 1, 'D': 2}\n"
          ]
        }
      ]
    },
    {
      "cell_type": "code",
      "source": [
        "\"\"\"\n",
        "Write a Python program to get variable unique identification number or string\n",
        "This program demonstrates how to obtain the memory address of an object in Python.\n",
        "The program uses the built-in function id() to obtain the memory address of an object and the format() function to convert the returned\n",
        " address to a hexadecimal representation.\n",
        "\n",
        "The variable x is assigned the value 30, and the id() function is used to obtain\n",
        " the memory address of this variable. The returned address is then passed as an argument to the format() function,\n",
        " which converts the address to a hexadecimal representation using the format specifier 'x'. This hexadecimal representation\n",
        " of the memory address is then printed.\n",
        "\n",
        "Similarly, the variable s is assigned the string \"Tutor Joes\", and the id() function is used to obtain\n",
        "the memory address of this variable. The returned address is then passed as an argument to the format() function,\n",
        "which converts the address to a hexadecimal representation using the format specifier 'x'.\n",
        "This hexadecimal representation of the memory address is then printed.\"\"\"\n",
        "x = 30\n",
        "print(format(id(x), 'x'))\n",
        "s = \"Tutor Joes\"\n",
        "print(format(id(s), 'x'))"
      ],
      "metadata": {
        "colab": {
          "base_uri": "https://localhost:8080/"
        },
        "id": "MrIbrsEp_EcI",
        "outputId": "4b662b2b-cdea-47b1-a4e9-36029f7f27ac"
      },
      "execution_count": null,
      "outputs": [
        {
          "output_type": "stream",
          "name": "stdout",
          "text": [
            "7f81b3f7c490\n",
            "7f81681ff3b0\n"
          ]
        }
      ]
    }
  ]
}