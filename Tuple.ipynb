{
  "nbformat": 4,
  "nbformat_minor": 0,
  "metadata": {
    "colab": {
      "provenance": [],
      "authorship_tag": "ABX9TyMjmdWyeksDLkNS38VTv44i",
      "include_colab_link": true
    },
    "kernelspec": {
      "name": "python3",
      "display_name": "Python 3"
    },
    "language_info": {
      "name": "python"
    }
  },
  "cells": [
    {
      "cell_type": "markdown",
      "metadata": {
        "id": "view-in-github",
        "colab_type": "text"
      },
      "source": [
        "<a href=\"https://colab.research.google.com/github/shravaniprakashchaube/Python_Problems/blob/main/Tuple.ipynb\" target=\"_parent\"><img src=\"https://colab.research.google.com/assets/colab-badge.svg\" alt=\"Open In Colab\"/></a>"
      ]
    },
    {
      "cell_type": "markdown",
      "source": [
        "Tuple are used to store multiple items in a single variable.To separate two items, you use a comma ( , ) . A tuple is like a list except that it uses parentheses ( ) . Once you define a tuple, you can access an individual element by its index. A tuple is a collection of objects which ordered and immutable, you cannot change its elements. Tuples are sequences, just like lists."
      ],
      "metadata": {
        "id": "HScHgzFnR8XK"
      }
    },
    {
      "cell_type": "code",
      "source": [
        "# Write a Python program to create a tuple\n",
        "a = tuple()\n",
        "print(a)"
      ],
      "metadata": {
        "colab": {
          "base_uri": "https://localhost:8080/"
        },
        "id": "M1-9_zqJQgj1",
        "outputId": "0fefa281-3ce1-40d3-a4ca-7da59b4e3f8b"
      },
      "execution_count": null,
      "outputs": [
        {
          "output_type": "stream",
          "name": "stdout",
          "text": [
            "()\n"
          ]
        }
      ]
    },
    {
      "cell_type": "code",
      "source": [
        "a = (\"Tutor Joes\", True, 'T', 3.21, 10)\n",
        "print(a)"
      ],
      "metadata": {
        "colab": {
          "base_uri": "https://localhost:8080/"
        },
        "id": "wuO53oflQt50",
        "outputId": "bc6943e7-6fca-4406-f24f-19995602396c"
      },
      "execution_count": null,
      "outputs": [
        {
          "output_type": "stream",
          "name": "stdout",
          "text": [
            "('Tutor Joes', True, 'T', 3.21, 10)\n"
          ]
        }
      ]
    },
    {
      "cell_type": "code",
      "source": [],
      "metadata": {
        "id": "9SvvCCoFWdh3"
      },
      "execution_count": null,
      "outputs": []
    },
    {
      "cell_type": "code",
      "source": [
        "#Write a Python program to unpack a tuple in several variables\n",
        "\n",
        "a = 4, 8, 3\n",
        "print(a)\n",
        "n1, n2, n3 = a\n",
        "#unpack a tuple in variables\n",
        "print(n1 + n2 + n3)"
      ],
      "metadata": {
        "colab": {
          "base_uri": "https://localhost:8080/"
        },
        "id": "o9RKI5CzZfEQ",
        "outputId": "235719c1-c6c8-4331-93b2-31b614f0385a"
      },
      "execution_count": null,
      "outputs": [
        {
          "output_type": "stream",
          "name": "stdout",
          "text": [
            "(4, 8, 3)\n",
            "15\n"
          ]
        }
      ]
    },
    {
      "cell_type": "code",
      "source": [
        "#Write a Python program to add an item in a tuple\n",
        "#create a tuple\n",
        "t = (10,40,50,70,90)\n",
        "print(t)\n",
        "t = t + (20,)\n",
        "print(t)\n",
        "#converting the tuple to list\n",
        "l = list(t)\n",
        "#use different ways to add items in list\n",
        "l.append(30)\n",
        "t = tuple(l)\n",
        "print(t)"
      ],
      "metadata": {
        "id": "2iK8PNawctUY",
        "outputId": "2b243f04-2800-4166-853d-b33ae9b47e2c",
        "colab": {
          "base_uri": "https://localhost:8080/"
        }
      },
      "execution_count": null,
      "outputs": [
        {
          "output_type": "stream",
          "name": "stdout",
          "text": [
            "(10, 40, 50, 70, 90)\n",
            "(10, 40, 50, 70, 90, 20)\n",
            "(10, 40, 50, 70, 90, 20, 30)\n"
          ]
        }
      ]
    },
    {
      "cell_type": "code",
      "source": [
        "#Write a Python program to convert a tuple to a string\n",
        "t = ('j','a','y','g','a','n','e','s','h')\n",
        "s = ''.join(t)\n",
        "print(s)\n"
      ],
      "metadata": {
        "colab": {
          "base_uri": "https://localhost:8080/"
        },
        "id": "Z6tbtGfk-RGf",
        "outputId": "527447fb-b4c8-4b69-df08-41b29e9ce671"
      },
      "execution_count": null,
      "outputs": [
        {
          "output_type": "stream",
          "name": "stdout",
          "text": [
            "jayganesh\n"
          ]
        }
      ]
    },
    {
      "cell_type": "code",
      "source": [
        "#Write a Python program to find the repeated items of a tuple\n",
        "t = (2,4,6,6,5,5,4,3,3,2,2,2,2,4,6,7)\n",
        "c = t.count(2)\n",
        "print(c)"
      ],
      "metadata": {
        "colab": {
          "base_uri": "https://localhost:8080/"
        },
        "id": "LP3zQ6Lh_BvD",
        "outputId": "a0c746e9-e96b-488b-fcae-530a0d7aeb06"
      },
      "execution_count": null,
      "outputs": [
        {
          "output_type": "stream",
          "name": "stdout",
          "text": [
            "5\n"
          ]
        }
      ]
    },
    {
      "cell_type": "code",
      "source": [
        "#Write a Python program to check whether an element exists within a tuple\n",
        "t = (2,4,6,6,5,5,4,3,3,2,2,2,2,4,6,7)\n",
        "print(2 in t)"
      ],
      "metadata": {
        "colab": {
          "base_uri": "https://localhost:8080/"
        },
        "id": "71MiGBoUB68g",
        "outputId": "ab1bf847-7a64-4428-f21d-170aba2996f4"
      },
      "execution_count": null,
      "outputs": [
        {
          "output_type": "stream",
          "name": "stdout",
          "text": [
            "True\n"
          ]
        }
      ]
    },
    {
      "cell_type": "code",
      "source": [
        "#remove elements\n",
        "t = (2,4,6,6,5,5,4,3,34,6,7)\n",
        "b = list(t)\n",
        "b.remove(2)\n",
        "a = tuple(b)\n",
        "print(a)"
      ],
      "metadata": {
        "colab": {
          "base_uri": "https://localhost:8080/"
        },
        "id": "ecMsrZY_Cnq1",
        "outputId": "0e3057aa-7daa-4a98-85b5-25006e526663"
      },
      "execution_count": null,
      "outputs": [
        {
          "output_type": "stream",
          "name": "stdout",
          "text": [
            "(4, 6, 6, 5, 5, 4, 3, 34, 6, 7)\n"
          ]
        }
      ]
    },
    {
      "cell_type": "code",
      "source": [
        "#Write a Python program to find the index of an item of a tuple\n",
        "t = (3,2,4,5,6)\n",
        "b = t.index(2)\n",
        "print(b)"
      ],
      "metadata": {
        "colab": {
          "base_uri": "https://localhost:8080/"
        },
        "id": "RPLVozFNECgz",
        "outputId": "94f4fe2b-fa67-41e4-a049-35dc6e506ad6"
      },
      "execution_count": null,
      "outputs": [
        {
          "output_type": "stream",
          "name": "stdout",
          "text": [
            "1\n"
          ]
        }
      ]
    },
    {
      "cell_type": "code",
      "source": [
        "#find length of a tuple\n",
        "\n",
        "t = (3,2,4,5,6)\n",
        "b = len(t)\n",
        "print(b)"
      ],
      "metadata": {
        "colab": {
          "base_uri": "https://localhost:8080/"
        },
        "id": "quluoNMFEvz3",
        "outputId": "7b834b82-bde2-4f03-f19a-93180aa9d8ad"
      },
      "execution_count": null,
      "outputs": [
        {
          "output_type": "stream",
          "name": "stdout",
          "text": [
            "5\n"
          ]
        }
      ]
    },
    {
      "cell_type": "code",
      "source": [
        "#reverse\n",
        "t = (2,3,4,5,6,7,8,7)\n",
        "b = (\"after reverse\",t[::-1])\n",
        "print(b)"
      ],
      "metadata": {
        "colab": {
          "base_uri": "https://localhost:8080/"
        },
        "id": "rgIkDEHlHvrw",
        "outputId": "c8469674-b1fe-4507-f427-541c2df3a3dc"
      },
      "execution_count": null,
      "outputs": [
        {
          "output_type": "stream",
          "name": "stdout",
          "text": [
            "('after reverse', (7, 8, 7, 6, 5, 4, 3, 2))\n"
          ]
        }
      ]
    },
    {
      "cell_type": "code",
      "source": [
        "#Create a tuple with single item 23\n",
        "#In Python, a single value without a comma is not considered to be a tuple\n",
        "t = (23,)\n",
        "print(t)"
      ],
      "metadata": {
        "colab": {
          "base_uri": "https://localhost:8080/"
        },
        "id": "6jvIG7PGv_Sv",
        "outputId": "59e2c182-f967-4c20-9095-617f4d4b5c35"
      },
      "execution_count": null,
      "outputs": [
        {
          "output_type": "stream",
          "name": "stdout",
          "text": [
            "(23,)\n"
          ]
        }
      ]
    },
    {
      "cell_type": "code",
      "source": [
        "#Copy specific elements from one tuple to a new tuple\n",
        "t = (2,34,5,6,7,8,89,9)\n",
        "t2 = t[2:5]\n",
        "print(t2)\n"
      ],
      "metadata": {
        "colab": {
          "base_uri": "https://localhost:8080/"
        },
        "id": "OT30UEs6w7GE",
        "outputId": "5ed63e9b-bd7c-4fff-c297-0b3d1817c037"
      },
      "execution_count": null,
      "outputs": [
        {
          "output_type": "stream",
          "name": "stdout",
          "text": [
            "(5, 6, 7)\n"
          ]
        }
      ]
    },
    {
      "cell_type": "code",
      "source": [
        "#Sort a tuple of tuples by 2nd item\n",
        "t = (('a', 53), ('b', 37), ('c', 23), ('d', 1), ('e', 18))\n",
        "t = tuple(sorted(list(t) , key=lambda x:x[1]))\n",
        "print(t)"
      ],
      "metadata": {
        "colab": {
          "base_uri": "https://localhost:8080/"
        },
        "id": "TCMTf8dQxYIr",
        "outputId": "fdc3922c-1591-4eeb-d9ad-a9736f61f3f1"
      },
      "execution_count": null,
      "outputs": [
        {
          "output_type": "stream",
          "name": "stdout",
          "text": [
            "(('d', 1), ('e', 18), ('c', 23), ('b', 37), ('a', 53))\n"
          ]
        }
      ]
    },
    {
      "cell_type": "code",
      "source": [
        "#Write a Python program to compute element-wise sum of given tuples\n",
        "t1 = (2,3,4)\n",
        "t2 = (3,4,5)\n",
        "t3 = (4,5,6)\n",
        "print(\"A\",t1)\n",
        "print(\"B\",t2)\n",
        "print(\"C\",t3)\n",
        "res = tuple(map(sum, zip(t1,t2,t3)))\n",
        "print(\"sum of elements\",res)\n"
      ],
      "metadata": {
        "colab": {
          "base_uri": "https://localhost:8080/"
        },
        "id": "VgAP7lOP1klY",
        "outputId": "ace4d101-742b-4fd0-ffd2-32449c3f9e99"
      },
      "execution_count": null,
      "outputs": [
        {
          "output_type": "stream",
          "name": "stdout",
          "text": [
            "A (2, 3, 4)\n",
            "B (3, 4, 5)\n",
            "C (4, 5, 6)\n",
            "sum of elements (9, 12, 15)\n"
          ]
        }
      ]
    },
    {
      "cell_type": "code",
      "source": [
        "#Write a Python program to replace last value of tuples in a list\n",
        "l = [(5, 2, 3), (4, 7, 6), (8, 9, 6)]\n",
        "print([t[:-1] + (10,) for t in l])"
      ],
      "metadata": {
        "colab": {
          "base_uri": "https://localhost:8080/"
        },
        "id": "0ijDuiqK3IMd",
        "outputId": "2bb1e3f4-a1af-4393-973a-e7bce5f963d7"
      },
      "execution_count": null,
      "outputs": [
        {
          "output_type": "stream",
          "name": "stdout",
          "text": [
            "[(5, 2, 10), (4, 7, 10), (8, 9, 10)]\n"
          ]
        }
      ]
    },
    {
      "cell_type": "code",
      "source": [
        "val = [(47, 23), (3, 78), (22, 53), (121, 45), (7, )]\n",
        "print(\"original list\",val)\n",
        "res ="
      ],
      "metadata": {
        "id": "DKq9UcjjXEX_"
      },
      "execution_count": null,
      "outputs": []
    }
  ]
}