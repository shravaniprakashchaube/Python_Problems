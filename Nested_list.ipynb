{
  "nbformat": 4,
  "nbformat_minor": 0,
  "metadata": {
    "colab": {
      "provenance": [],
      "authorship_tag": "ABX9TyOBgsM+ec7YegJj+O0iA+z3",
      "include_colab_link": true
    },
    "kernelspec": {
      "name": "python3",
      "display_name": "Python 3"
    },
    "language_info": {
      "name": "python"
    }
  },
  "cells": [
    {
      "cell_type": "markdown",
      "metadata": {
        "id": "view-in-github",
        "colab_type": "text"
      },
      "source": [
        "<a href=\"https://colab.research.google.com/github/shravaniprakashchaube/Python_Problems/blob/main/Nested_list.ipynb\" target=\"_parent\"><img src=\"https://colab.research.google.com/assets/colab-badge.svg\" alt=\"Open In Colab\"/></a>"
      ]
    },
    {
      "cell_type": "code",
      "execution_count": null,
      "metadata": {
        "id": "5ggLhsbZ3SPz"
      },
      "outputs": [],
      "source": [
        "if __name__ == '__main__':\n",
        "    dic = {}\n",
        "    s = list()\n",
        "    for _ in range(int(input())):\n",
        "        name = input()\n",
        "        score = float(input())\n",
        "        if score in dic:\n",
        "            dic[score].append(name)\n",
        "        else:\n",
        "            dic[score] = [name]\n",
        "        if score not in s:\n",
        "            s.append(score)\n",
        "\n",
        "    m = min(s)\n",
        "    s.remove(m)\n",
        "    m1 = min(s)\n",
        "    dic[m1].sort()\n",
        "    for i in dic[m1]:\n",
        "        print(i)"
      ]
    }
  ]
}