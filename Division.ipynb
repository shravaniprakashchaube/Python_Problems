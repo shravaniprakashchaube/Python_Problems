{
  "nbformat": 4,
  "nbformat_minor": 0,
  "metadata": {
    "colab": {
      "provenance": [],
      "authorship_tag": "ABX9TyPn/W3Mge4DvK+z0qRnyjF2",
      "include_colab_link": true
    },
    "kernelspec": {
      "name": "python3",
      "display_name": "Python 3"
    },
    "language_info": {
      "name": "python"
    }
  },
  "cells": [
    {
      "cell_type": "markdown",
      "metadata": {
        "id": "view-in-github",
        "colab_type": "text"
      },
      "source": [
        "<a href=\"https://colab.research.google.com/github/shravaniprakashchaube/Python_Problems/blob/main/Division.ipynb\" target=\"_parent\"><img src=\"https://colab.research.google.com/assets/colab-badge.svg\" alt=\"Open In Colab\"/></a>"
      ]
    },
    {
      "cell_type": "code",
      "execution_count": null,
      "metadata": {
        "id": "AcVfpfAnek_W"
      },
      "outputs": [],
      "source": []
    },
    {
      "cell_type": "markdown",
      "source": [
        "Python: Division"
      ],
      "metadata": {
        "id": "YlyQ_UJaewha"
      }
    },
    {
      "cell_type": "code",
      "source": [
        "def div(a,b):\n",
        "    ans = 0\n",
        "    ans = a//b\n",
        "    return ans\n",
        "def fdiv(a,b):\n",
        "    ans = 0\n",
        "    ans = a/b\n",
        "    return ans\n",
        "\n",
        "def main():\n",
        "    a = int(input())\n",
        "    b = int(input())\n",
        "    division = div(a,b)\n",
        "    print(division)\n",
        "    floatdivision = fdiv(a,b)\n",
        "    print(floatdivision)\n",
        "\n",
        "\n",
        "\n",
        "if __name__ == '__main__':\n",
        "    main()\n",
        "\n"
      ],
      "metadata": {
        "colab": {
          "base_uri": "https://localhost:8080/"
        },
        "id": "4uSV-qgRex9E",
        "outputId": "2e79d469-f627-44b5-887d-76c128e9d401"
      },
      "execution_count": 7,
      "outputs": [
        {
          "output_type": "stream",
          "name": "stdout",
          "text": [
            "4\n",
            "3\n",
            "1\n",
            "1.3333333333333333\n"
          ]
        }
      ]
    }
  ]
}