{
  "nbformat": 4,
  "nbformat_minor": 0,
  "metadata": {
    "colab": {
      "provenance": [],
      "authorship_tag": "ABX9TyN6E37LSiQvHS/WRZhd5/Eq",
      "include_colab_link": true
    },
    "kernelspec": {
      "name": "python3",
      "display_name": "Python 3"
    },
    "language_info": {
      "name": "python"
    }
  },
  "cells": [
    {
      "cell_type": "markdown",
      "metadata": {
        "id": "view-in-github",
        "colab_type": "text"
      },
      "source": [
        "<a href=\"https://colab.research.google.com/github/shravaniprakashchaube/Python_Problems/blob/main/Nested_list2.ipynb\" target=\"_parent\"><img src=\"https://colab.research.google.com/assets/colab-badge.svg\" alt=\"Open In Colab\"/></a>"
      ]
    },
    {
      "cell_type": "code",
      "execution_count": null,
      "metadata": {
        "id": "1iqsNOJ9Qimc"
      },
      "outputs": [],
      "source": [
        "if __name__ == '__main__':\n",
        "    score_list =[]\n",
        "    total_list =[]\n",
        "    name_list = []\n",
        "\n",
        "    for _ in range(int(input())):\n",
        "        name = input()\n",
        "        score = float(input())\n",
        "\n",
        "        score_list.append(score)\n",
        "        total_list.append([name,score])\n",
        "    lowest = list(set(score_list))\n",
        "    lowest.sort()\n",
        "\n",
        "\n",
        "    for name,score in total_list:\n",
        "        if score == lowest[1]:\n",
        "            name_list.append(name)\n",
        "    name_list.sort()\n",
        "    for item in name_list:\n",
        "        print(item)"
      ]
    }
  ]
}