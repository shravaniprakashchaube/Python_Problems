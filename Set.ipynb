{
  "nbformat": 4,
  "nbformat_minor": 0,
  "metadata": {
    "colab": {
      "provenance": [],
      "authorship_tag": "ABX9TyOEYMg8TkLUsq+54VLPuKWB",
      "include_colab_link": true
    },
    "kernelspec": {
      "name": "python3",
      "display_name": "Python 3"
    },
    "language_info": {
      "name": "python"
    }
  },
  "cells": [
    {
      "cell_type": "markdown",
      "metadata": {
        "id": "view-in-github",
        "colab_type": "text"
      },
      "source": [
        "<a href=\"https://colab.research.google.com/github/shravaniprakashchaube/Python_Problems/blob/main/Set.ipynb\" target=\"_parent\"><img src=\"https://colab.research.google.com/assets/colab-badge.svg\" alt=\"Open In Colab\"/></a>"
      ]
    },
    {
      "cell_type": "code",
      "execution_count": null,
      "metadata": {
        "id": "2EUwDA7yyibS"
      },
      "outputs": [],
      "source": [
        "'''Set are used to store multiple items in a single variable. To separate two items, you use a comma ( , ) . A set is like a list except that it uses parentheses { } . Set is one of 4 built-in data types in Python used to store collections of data, the other 3 are List, Tuple, and Dictionary, all with different qualities and usage.\n",
        "\n",
        "Set are unordered\n",
        "A set doesn’t allow duplicate elements\n",
        "Set cannot be changed'''\n"
      ]
    },
    {
      "cell_type": "code",
      "source": [
        "#create a set\n",
        "print(\"Create a new set:\")\n",
        "a = set()\n",
        "print(a)\n",
        "print(type(a))\n",
        "\n",
        "print(\"\\nCreate a non empty set:\")\n",
        "b = set({23,45,56,\"Joes\",'T',45.6,True})\n",
        "print(b)\n",
        "print(type(b))\n",
        "\n",
        "print(\"\\nUsing a literal:\")\n",
        "c = {23,45,56,\"Joes\",'T',45.6,True}\n",
        "print(c)\n",
        "print(type(c))"
      ],
      "metadata": {
        "colab": {
          "base_uri": "https://localhost:8080/"
        },
        "id": "oXKH-neJy5kH",
        "outputId": "6178af8f-7d20-4a0d-c180-febb332405a7"
      },
      "execution_count": 1,
      "outputs": [
        {
          "output_type": "stream",
          "name": "stdout",
          "text": [
            "Create a new set:\n",
            "set()\n",
            "<class 'set'>\n",
            "\n",
            "Create a non empty set:\n",
            "{True, 45, 'Joes', 'T', 23, 56, 45.6}\n",
            "<class 'set'>\n",
            "\n",
            "Using a literal:\n",
            "{True, 45.6, 'Joes', 'T', 23, 56, 45}\n",
            "<class 'set'>\n"
          ]
        }
      ]
    },
    {
      "cell_type": "code",
      "source": [
        "#to add member(s) in a set\n",
        "\n",
        "animal = {\"Lion\",\"Cat\"}\n",
        "print(animal)\n",
        "animal.add(\"Dog\")\n",
        "print(\"Add single element : \",animal)\n",
        "animal.update([\"Ponda\", \"Tiger\"])\n",
        "print(\"Add multiple items : \",animal)"
      ],
      "metadata": {
        "colab": {
          "base_uri": "https://localhost:8080/"
        },
        "id": "2F19l8DG0LRc",
        "outputId": "5aa02ae7-5408-4715-b271-d6f76222c108"
      },
      "execution_count": 2,
      "outputs": [
        {
          "output_type": "stream",
          "name": "stdout",
          "text": [
            "{'Lion', 'Cat'}\n",
            "Add single element :  {'Lion', 'Dog', 'Cat'}\n",
            "Add multiple items :  {'Lion', 'Tiger', 'Dog', 'Cat', 'Ponda'}\n"
          ]
        }
      ]
    },
    {
      "cell_type": "code",
      "source": [
        "\n",
        "# remove\n",
        "n = {30,50,70,20,30,60}\n",
        "print(\"Before removing From Set :\",n)\n",
        "n.pop()\n",
        "print(\"After removing From Set :\",n)"
      ],
      "metadata": {
        "colab": {
          "base_uri": "https://localhost:8080/"
        },
        "id": "Zw8xuWhh1Roi",
        "outputId": "d8de48c8-69fb-4830-b7f3-d04b8c3c32e4"
      },
      "execution_count": 3,
      "outputs": [
        {
          "output_type": "stream",
          "name": "stdout",
          "text": [
            "Before removing From Set : {50, 20, 70, 60, 30}\n",
            "After removing From Set : {20, 70, 60, 30}\n"
          ]
        }
      ]
    },
    {
      "cell_type": "code",
      "source": [
        "# copy\n",
        "\n",
        "a = {\"Tutoe\" , \"Joes\"}\n",
        "b = {\"Joes\" , \"Tutoe\"}\n",
        "#A shallow copy\n",
        "a = b.copy()\n",
        "print(a)"
      ],
      "metadata": {
        "colab": {
          "base_uri": "https://localhost:8080/"
        },
        "id": "eDRdLnGh1xL4",
        "outputId": "f85025a4-0024-47f9-bca8-ed76c23e8873"
      },
      "execution_count": 4,
      "outputs": [
        {
          "output_type": "stream",
          "name": "stdout",
          "text": [
            "{'Joes', 'Tutoe'}\n"
          ]
        }
      ]
    },
    {
      "cell_type": "code",
      "source": [
        "# Python program to check if two given sets have no elements in common\n",
        "\n",
        "a = {23,45,78,8,56}\n",
        "b = {42,55,26,87}\n",
        "z = {87,46}\n",
        "print(\"a :\",a)\n",
        "print(\"b :\",b)\n",
        "print(\"Z :\",z)\n",
        "print(\"\\nTwo given sets have no Elements in Common..\")\n",
        "print(\"\\nCompare A and B : \",a.isdisjoint(b))\n",
        "print(\"Compare B and Z : \",b.isdisjoint(z))\n",
        "print(\"Compare A and Z : \",z.isdisjoint(a))"
      ],
      "metadata": {
        "colab": {
          "base_uri": "https://localhost:8080/"
        },
        "id": "Fx5mDCN42BPa",
        "outputId": "e08c22c5-b216-4644-8c41-112047812ca5"
      },
      "execution_count": 5,
      "outputs": [
        {
          "output_type": "stream",
          "name": "stdout",
          "text": [
            "a : {23, 8, 56, 45, 78}\n",
            "b : {42, 26, 55, 87}\n",
            "Z : {46, 87}\n",
            "\n",
            "Two given sets have no Elements in Common..\n",
            "\n",
            "Compare A and B :  True\n",
            "Compare B and Z :  False\n",
            "Compare A and Z :  True\n"
          ]
        }
      ]
    },
    {
      "cell_type": "code",
      "source": [
        "# maximum and minimum\n",
        "a = {23,45,17,8,56,10}\n",
        "print(\"Set A :\",a)\n",
        "print(\"\\nMaximum of A :\",max(a))\n",
        "print(\"Minimum of A :\",min(a))\n"
      ],
      "metadata": {
        "colab": {
          "base_uri": "https://localhost:8080/"
        },
        "id": "pr5kO2G02TIc",
        "outputId": "b821d721-931d-4690-d262-e2fe400022cf"
      },
      "execution_count": 6,
      "outputs": [
        {
          "output_type": "stream",
          "name": "stdout",
          "text": [
            "Set A : {17, 56, 23, 8, 10, 45}\n",
            "\n",
            "Maximum of A : 56\n",
            "Minimum of A : 8\n"
          ]
        }
      ]
    },
    {
      "cell_type": "code",
      "source": [
        "# remove all elements\n",
        "color = {\"Red\",\"Green\",\"Pink\",\"White\",\"Black\",\"Yellow\",\"Blue\"}\n",
        "print(color)\n",
        "print(type(color))\n",
        "\n",
        "#Remove All Elements from given set\n",
        "color.clear()\n",
        "print(\"\\nAfter Remove all Elements give Sets :\",color)\n",
        "print(type(color))"
      ],
      "metadata": {
        "colab": {
          "base_uri": "https://localhost:8080/"
        },
        "id": "zfb9pi9W2kuY",
        "outputId": "78f91c24-4254-406d-89db-8363c4942b21"
      },
      "execution_count": 7,
      "outputs": [
        {
          "output_type": "stream",
          "name": "stdout",
          "text": [
            "{'Blue', 'Green', 'Yellow', 'White', 'Black', 'Red', 'Pink'}\n",
            "<class 'set'>\n",
            "\n",
            "After Remove all Elements give Sets : set()\n",
            "<class 'set'>\n"
          ]
        }
      ]
    },
    {
      "cell_type": "code",
      "source": [
        "#Python program to Convert Tuple to Set\n",
        "val = ('T', 'u', 't', 'o', 'r', 'J', 'o', 'e' , 's')\n",
        "print(val)\n",
        "print(type(val))\n",
        "\n",
        "print(\"\\nConvert Tuple to Set\\n\")\n",
        "s = set(val)                           # similary we can convert any type into set using this method\n",
        "print(s)\n",
        "print(type(s))\n"
      ],
      "metadata": {
        "colab": {
          "base_uri": "https://localhost:8080/"
        },
        "id": "Am1RKlqo3KBR",
        "outputId": "2870639d-5571-4f61-de46-7532dc2a0c79"
      },
      "execution_count": 8,
      "outputs": [
        {
          "output_type": "stream",
          "name": "stdout",
          "text": [
            "('T', 'u', 't', 'o', 'r', 'J', 'o', 'e', 's')\n",
            "<class 'tuple'>\n",
            "\n",
            "Convert Tuple to Set\n",
            "\n",
            "{'o', 'T', 'J', 't', 'r', 'e', 'u', 's'}\n",
            "<class 'set'>\n"
          ]
        }
      ]
    },
    {
      "cell_type": "code",
      "source": [
        "# to add all elements\n",
        "x = {10,20,30,40,50}\n",
        "y = [60,70,80,90,100]\n",
        "print(\"\\nAdd all its Elements into a given set ..\")\n",
        "x.update(y)\n",
        "print(x)"
      ],
      "metadata": {
        "colab": {
          "base_uri": "https://localhost:8080/"
        },
        "id": "2yRCr9D13yUA",
        "outputId": "0538fbbd-5ebf-4c46-aa19-e018e3f51f77"
      },
      "execution_count": 9,
      "outputs": [
        {
          "output_type": "stream",
          "name": "stdout",
          "text": [
            "\n",
            "Add all its Elements into a given set ..\n",
            "{70, 10, 80, 20, 90, 30, 100, 40, 50, 60}\n"
          ]
        }
      ]
    },
    {
      "cell_type": "code",
      "source": [
        "#Write a Python program to return a new set with unique items from both sets by removing duplicates\n",
        "x = {10, 20, 30, 40, 50}\n",
        "y = {40, 50, 60, 70,80}\n",
        "z = x.union(y)\n",
        "print(z)"
      ],
      "metadata": {
        "colab": {
          "base_uri": "https://localhost:8080/"
        },
        "id": "UqahHdT437TO",
        "outputId": "f0b582f4-28de-42bf-c838-bbb1d671c1e1"
      },
      "execution_count": 10,
      "outputs": [
        {
          "output_type": "stream",
          "name": "stdout",
          "text": [
            "{70, 40, 10, 80, 50, 20, 60, 30}\n"
          ]
        }
      ]
    },
    {
      "cell_type": "code",
      "source": [
        "#Write a Python program to Check if two sets have any elements in common. If yes, display the common elements\n",
        "s1 = {1, 2, 3, 4, 5}\n",
        "s2 = {5, 3, 7, 8, 9}\n",
        "\n",
        "if s1.isdisjoint(s2):\n",
        "  print(\"Two Sets No items in Common\")\n",
        "else:\n",
        "  print(\"Two sets items in Common\")\n",
        "  print(s1.intersection(s2))"
      ],
      "metadata": {
        "colab": {
          "base_uri": "https://localhost:8080/"
        },
        "id": "iWVHwTLD4X5m",
        "outputId": "ea0d0ff0-379e-4ebc-b112-941e7f052330"
      },
      "execution_count": 11,
      "outputs": [
        {
          "output_type": "stream",
          "name": "stdout",
          "text": [
            "Two sets items in Common\n",
            "{3, 5}\n"
          ]
        }
      ]
    },
    {
      "cell_type": "code",
      "source": [
        "#Write a Python program to Check if a set a subset of another set\n",
        "\n",
        "a = {4,5}\n",
        "b = {1,2,3,4,5}\n",
        "print(\"A Subset of B :\",a.issubset(b))\n",
        "print(\"B Subset of A :\",b.issubset(a))"
      ],
      "metadata": {
        "colab": {
          "base_uri": "https://localhost:8080/"
        },
        "id": "ZDRojyfi4ry9",
        "outputId": "77ed8e67-de7a-4786-a79a-159fe0f14f41"
      },
      "execution_count": 14,
      "outputs": [
        {
          "output_type": "stream",
          "name": "stdout",
          "text": [
            "A Subset of B : True\n",
            "B Subset of A : False\n"
          ]
        }
      ]
    },
    {
      "cell_type": "code",
      "source": [
        "# Write a Python program to Check if a specific value exists in a set\n",
        "\n",
        "s = {10,20,30,40,50}\n",
        "print(60 in s)\n",
        "print(30 in s)"
      ],
      "metadata": {
        "colab": {
          "base_uri": "https://localhost:8080/"
        },
        "id": "rCrOelQ044Q4",
        "outputId": "671b5fc9-64a0-435d-cc02-d7d375ef9c41"
      },
      "execution_count": 13,
      "outputs": [
        {
          "output_type": "stream",
          "name": "stdout",
          "text": [
            "False\n",
            "True\n"
          ]
        }
      ]
    },
    {
      "cell_type": "code",
      "source": [
        " #program to count number of vowels using sets in given string\n",
        "str = \"Tutor Joes\"\n",
        "count = 0\n",
        "vowel = set(\"aeiouAEIOU\")\n",
        "print(\"String :\",str)\n",
        "print(\"Vowels :\",vowel)\n",
        "for alphabet in str:\n",
        "\tif alphabet in vowel:\n",
        "\t\tcount = count + 1\n",
        "\n",
        "print(\"Number of Vowels :\", count)"
      ],
      "metadata": {
        "colab": {
          "base_uri": "https://localhost:8080/"
        },
        "id": "yyMpw9kc5ImU",
        "outputId": "bce024ec-94c3-43e4-8191-28c74d084657"
      },
      "execution_count": 12,
      "outputs": [
        {
          "output_type": "stream",
          "name": "stdout",
          "text": [
            "String : Tutor Joes\n",
            "Vowels : {'o', 'O', 'e', 'I', 'u', 'i', 'U', 'E', 'a', 'A'}\n",
            "Number of Vowels : 4\n"
          ]
        }
      ]
    }
  ]
}